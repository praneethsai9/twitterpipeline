{
 "cells": [
  {
   "cell_type": "code",
   "execution_count": 132,
   "metadata": {},
   "outputs": [],
   "source": [
    "import threads\n",
    "import json\n",
    "import pandas as pd"
   ]
  },
  {
   "cell_type": "code",
   "execution_count": 133,
   "metadata": {},
   "outputs": [],
   "source": [
    "threads=threads.Threads()\n",
    "user_id=314216\n",
    "user_threads = threads.public_api.get_user_threads(user_id)\n",
    "ut=json.dumps(user_threads, indent=4)\n",
    "ut=json.loads(ut)"
   ]
  },
  {
   "cell_type": "code",
   "execution_count": 134,
   "metadata": {},
   "outputs": [
    {
     "name": "stdout",
     "output_type": "stream",
     "text": [
      "{\n",
      "    \"data\": {\n",
      "        \"userData\": {\n",
      "            \"user\": {\n",
      "                \"is_private\": false,\n",
      "                \"profile_pic_url\": \"https://scontent.cdninstagram.com/v/t51.2885-19/357376107_1330597350674698_8884059223384672080_n.jpg?stp=dst-jpg_s150x150&_nc_ht=scontent.cdninstagram.com&_nc_cat=110&_nc_ohc=UjBPOTLEZVIAX8U6_tO&edm=APs17CUBAAAA&ccb=7-5&oh=00_AfCOGvg1Dstkc0l_7CnGOryg3sIvTXieEhmBDZrsD4zUwg&oe=64FBF7C0&_nc_sid=10d13b\",\n",
      "                \"username\": \"zuck\",\n",
      "                \"hd_profile_pic_versions\": [\n",
      "                    {\n",
      "                        \"height\": 320,\n",
      "                        \"url\": \"https://scontent.cdninstagram.com/v/t51.2885-19/357376107_1330597350674698_8884059223384672080_n.jpg?stp=dst-jpg_s320x320&_nc_ht=scontent.cdninstagram.com&_nc_cat=110&_nc_ohc=UjBPOTLEZVIAX8U6_tO&edm=APs17CUBAAAA&ccb=7-5&oh=00_AfAPALc6WjrobMOciSiBqJ9-OAQuD5rGrKa242A-C6ye8w&oe=64FBF7C0&_nc_sid=10d13b\",\n",
      "                        \"width\": 320\n",
      "                    },\n",
      "                    {\n",
      "                        \"height\": 640,\n",
      "                        \"url\": \"https://scontent.cdninstagram.com/v/t51.2885-19/357376107_1330597350674698_8884059223384672080_n.jpg?stp=dst-jpg_s640x640&_nc_ht=scontent.cdninstagram.com&_nc_cat=110&_nc_ohc=UjBPOTLEZVIAX8U6_tO&edm=APs17CUBAAAA&ccb=7-5&oh=00_AfCVwcVBch87fPIe4WyP0kVz2FxDOSep48-6vrwzVhCghA&oe=64FBF7C0&_nc_sid=10d13b\",\n",
      "                        \"width\": 640\n",
      "                    }\n",
      "                ],\n",
      "                \"is_verified\": true,\n",
      "                \"biography\": \"\",\n",
      "                \"biography_with_entities\": {\n",
      "                    \"entities\": [],\n",
      "                    \"raw_text\": \"\"\n",
      "                },\n",
      "                \"follower_count\": 3373538,\n",
      "                \"profile_context_facepile_users\": null,\n",
      "                \"bio_links\": [\n",
      "                    {\n",
      "                        \"url\": \"\"\n",
      "                    }\n",
      "                ],\n",
      "                \"pk\": \"314216\",\n",
      "                \"full_name\": \"Mark Zuckerberg\",\n",
      "                \"id\": null\n",
      "            }\n",
      "        }\n",
      "    },\n",
      "    \"extensions\": {\n",
      "        \"is_final\": true\n",
      "    }\n",
      "}\n"
     ]
    }
   ],
   "source": [
    "user = threads.public_api.get_user(id=user_id)\n",
    "print(json.dumps(user, indent=4))"
   ]
  },
  {
   "cell_type": "code",
   "execution_count": 135,
   "metadata": {},
   "outputs": [],
   "source": [
    "#ut"
   ]
  },
  {
   "cell_type": "code",
   "execution_count": 136,
   "metadata": {},
   "outputs": [],
   "source": [
    "def print_json_tree(data, level=0):\n",
    "    if isinstance(data, dict):\n",
    "        for key, value in data.items():\n",
    "            print(\"  \" * level + f\"{key}:\")\n",
    "            print_json_tree(value, level + 1)\n",
    "    elif isinstance(data, list):\n",
    "        for item in data:\n",
    "            print_json_tree(item, level + 1)\n",
    "    else:\n",
    "        print(\"  \" * level + str(data))"
   ]
  },
  {
   "cell_type": "code",
   "execution_count": 137,
   "metadata": {},
   "outputs": [],
   "source": [
    "def extract_specific_keys(data, keys_to_extract):\n",
    "    results = {key: [] for key in keys_to_extract}\n",
    "\n",
    "    def extract_recursive(data):\n",
    "        if isinstance(data, dict):\n",
    "            for key, value in data.items():\n",
    "                if key in keys_to_extract:\n",
    "                    results[key].append(value)\n",
    "                elif isinstance(value, (dict, list)):\n",
    "                    extract_recursive(value)\n",
    "        elif isinstance(data, list):\n",
    "            for item in data:\n",
    "                extract_recursive(item)\n",
    "\n",
    "    extract_recursive(data)\n",
    "    return results\n",
    "\n"
   ]
  },
  {
   "cell_type": "code",
   "execution_count": 138,
   "metadata": {},
   "outputs": [],
   "source": [
    "# Specify the keys you want to extract\n",
    "keys_to_extract = [\"username\",\"caption\", \"like_count\",\"taken_at\"]\n",
    "\n",
    "# Extract all instances of the specified keys\n",
    "extracted_data = extract_specific_keys(ut, keys_to_extract)\n",
    "\n",
    "\n",
    "res=json.dumps(extracted_data, indent=4)\n",
    "\n",
    "\n",
    "#print(json.dumps(extracted_data, indent=4))"
   ]
  },
  {
   "cell_type": "code",
   "execution_count": 139,
   "metadata": {},
   "outputs": [],
   "source": [
    "# Extract the \"caption\" values from the dictionary and convert them into a list of strings\n",
    "res=json.loads(res)\n",
    "captions_list = [caption[\"text\"] for caption in res[\"caption\"]]\n",
    "\n",
    "# Replace the \"caption\" key in the dictionary with the list of strings\n",
    "res[\"caption\"] = captions_list\n"
   ]
  },
  {
   "cell_type": "code",
   "execution_count": 140,
   "metadata": {},
   "outputs": [
    {
     "data": {
      "text/plain": [
       "{'username': ['zuck',\n",
       "  'zuck',\n",
       "  'zuck',\n",
       "  'zuck',\n",
       "  'zuck',\n",
       "  'realitylabs',\n",
       "  'zuck',\n",
       "  'zuck',\n",
       "  'zuck',\n",
       "  'zuck',\n",
       "  'zuck',\n",
       "  'zuck',\n",
       "  'zuck',\n",
       "  'zuck',\n",
       "  'zuck',\n",
       "  'zuck',\n",
       "  'zuck',\n",
       "  'zuck',\n",
       "  'zuck',\n",
       "  'envy_worldwide',\n",
       "  'zuck',\n",
       "  'zuck',\n",
       "  'zuck',\n",
       "  'zuck',\n",
       "  'zuck',\n",
       "  'zuck',\n",
       "  'zuck',\n",
       "  'zuck',\n",
       "  'zuck',\n",
       "  'zuck',\n",
       "  'zuck'],\n",
       " 'caption': ['Get excited -- search is coming to Threads.',\n",
       "  'Actual footage of me building Threads for web. Rolling out over the next few days.',\n",
       "  'Our little girl is growing up and wake surfing without a rope 😭',\n",
       "  'Work hard, sleep hard 😴',\n",
       "  'Massive congratulations to our entire Display Systems Research team on an impressive three (!!!) wins at SIGGRAPH 2023 E-TECH: Best in Show for Flamera & Audience Choice + Official Selection for the Digital Content Association of Japan for Butterscotch Varifocal 🥳 https://www.meta.com/blog/quest/reality-labs-research-display-systems-siggraph-2023-butterscotch-varifocal-flamera',\n",
       "  'Congrats to our team!',\n",
       "  \"I think we can all agree Elon isn't serious and it's time to move on. I offered a real date. Dana White offered to make this a legit competition for charity. Elon won't confirm a date, then says he needs surgery, and now asks to do a practice round in my backyard instead. If Elon ever gets serious about a real date and official event, he knows how to reach me. Otherwise, time to move on. I'm going to focus on competing with people who take the sport seriously.\",\n",
       "  \"Separately, here's a photo from today's Friday Morning Fights in my backyard octagon. Good times.\",\n",
       "  \"I love this sport and I've been ready to fight since the day Elon challenged me. If he ever agrees on an actual date, you'll hear it from me. Until then, please assume anything he says has not been agreed on.\",\n",
       "  \"Not holding my breath for Elon, but I'll share details on my next fight when I'm ready. When I compete, I want to do it in a way that puts a spotlight on the elite athletes at the top of the game. You do that by working with professional orgs like the UFC or ONE to pull this off well and create a great card.\",\n",
       "  \"New updates to Threads this week:\\n\\n🧵Directly share a post to your Instagram DMs\\n🧵Custom alt-text for photo/video\\n🧵New mention button to easily mention someone's account in your Thread\",\n",
       "  \"I'm ready today. I suggested Aug 26 when he first challenged, but he hasn't confirmed. Not holding my breath.\",\n",
       "  'I love this sport and will continue competing with people who train no matter what happens here.',\n",
       "  \"Shouldn't we use a more reliable platform that can actually raise money for charity?\",\n",
       "  \"A good week for Threads. The community here is on the trajectory I expect to build a vibrant long term app. Lots of work ahead but excited about the team's pace of shipping. Search and web coming in the next few weeks.\",\n",
       "  \"When your wife discovers you've installed an octagon in the backyard...\",\n",
       "  'Can you please add a following tab?',\n",
       "  'Ask and you shall receive.',\n",
       "  \"Surprisingly emotional to see @davecamarillo get his 5th degree black belt today, and honored to get promoted to compete at blue belt. I just love this sport. It's so primal and lets me be my true competitive self.\",\n",
       "  'Open sourcing Llama 2 today. What do you want to see researchers and businesses build with our next-gen large language model?',\n",
       "  \"I'm very optimistic about how the Threads community is coming together. Early growth was off the charts, but more importantly 10s of millions of people now come back daily. That's way ahead of what we expected. The focus for the rest of the year is improving the basics and retention. It'll take time to stabilize, but once we nail that then we'll focus on growing the community. We've run this playbook many times (FB, IG, Stories, Reels, etc) and I'm confident Threads is on a good path too.\",\n",
       "  'Calm morning on the lake before another big week ahead.',\n",
       "  \"Threads reached 100 million sign ups over the weekend. That's mostly organic demand and we haven't even turned on many promotions yet. Can't believe it's only been 5 days!\",\n",
       "  'Beautiful work out there @alexvolkanovski',\n",
       "  '70 million sign ups on Threads as of this morning. Way beyond our expectations.',\n",
       "  'Lots of work on basic capabilities this morning.',\n",
       "  \"Wow, 30 million sign ups as of this morning. Feels like the beginning of something special, but we've got a lot of work ahead to build out the app.\",\n",
       "  '10 million sign ups in seven hours 🤯',\n",
       "  'Just passed 5 million sign ups in the first four hours...'],\n",
       " 'like_count': [23664,\n",
       "  43077,\n",
       "  22432,\n",
       "  18508,\n",
       "  437,\n",
       "  7429,\n",
       "  93733,\n",
       "  21485,\n",
       "  35038,\n",
       "  6934,\n",
       "  18755,\n",
       "  45516,\n",
       "  8032,\n",
       "  51052,\n",
       "  34122,\n",
       "  26316,\n",
       "  291,\n",
       "  21832,\n",
       "  13156,\n",
       "  20933,\n",
       "  63680,\n",
       "  60013,\n",
       "  133976,\n",
       "  41611,\n",
       "  338848,\n",
       "  268317,\n",
       "  365120,\n",
       "  379015,\n",
       "  172279],\n",
       " 'taken_at': [1693482973,\n",
       "  1692709187,\n",
       "  1692461598,\n",
       "  1692113544,\n",
       "  1691594880,\n",
       "  1692041259,\n",
       "  1691943490,\n",
       "  1691780144,\n",
       "  1691779970,\n",
       "  1691780027,\n",
       "  1691593083,\n",
       "  1691354245,\n",
       "  1691354417,\n",
       "  1691354057,\n",
       "  1691187556,\n",
       "  1691003290,\n",
       "  1689952779,\n",
       "  1690297834,\n",
       "  1690075025,\n",
       "  1689696555,\n",
       "  1689627794,\n",
       "  1689525955,\n",
       "  1688997002,\n",
       "  1688879471,\n",
       "  1688744372,\n",
       "  1688656673,\n",
       "  1688655264,\n",
       "  1688623647,\n",
       "  1688612612]}"
      ]
     },
     "execution_count": 140,
     "metadata": {},
     "output_type": "execute_result"
    }
   ],
   "source": [
    "res"
   ]
  },
  {
   "cell_type": "code",
   "execution_count": 141,
   "metadata": {},
   "outputs": [
    {
     "name": "stdout",
     "output_type": "stream",
     "text": [
      "username: 31\n",
      "caption: 29\n",
      "like_count: 29\n",
      "taken_at: 29\n"
     ]
    }
   ],
   "source": [
    "counts = {key: len(value) for key, value in res.items()}\n",
    "\n",
    "# Print the counts\n",
    "for key, count in counts.items():\n",
    "    print(f\"{key}: {count}\")"
   ]
  },
  {
   "cell_type": "code",
   "execution_count": 148,
   "metadata": {},
   "outputs": [
    {
     "name": "stdout",
     "output_type": "stream",
     "text": [
      "29\n"
     ]
    }
   ],
   "source": [
    "rep_len=len(res[\"caption\"])\n",
    "print(rep_len)\n",
    "\n",
    "res[\"username\"]=[res[\"username\"][0]]*rep_len\n",
    "\n",
    "res[\"user_id\"]=[user_id]*rep_len"
   ]
  },
  {
   "cell_type": "code",
   "execution_count": 149,
   "metadata": {},
   "outputs": [
    {
     "name": "stdout",
     "output_type": "stream",
     "text": [
      "username: 29\n",
      "caption: 29\n",
      "like_count: 29\n",
      "taken_at: 29\n",
      "user_id: 29\n"
     ]
    }
   ],
   "source": [
    "counts = {key: len(value) for key, value in res.items()}\n",
    "\n",
    "# Print the counts\n",
    "for key, count in counts.items():\n",
    "    print(f\"{key}: {count}\")"
   ]
  },
  {
   "cell_type": "code",
   "execution_count": 150,
   "metadata": {},
   "outputs": [],
   "source": [
    "df=pd.DataFrame(res)\n"
   ]
  },
  {
   "cell_type": "code",
   "execution_count": 151,
   "metadata": {},
   "outputs": [],
   "source": [
    "df.to_csv(\"sample_data.csv\")"
   ]
  },
  {
   "cell_type": "code",
   "execution_count": null,
   "metadata": {},
   "outputs": [],
   "source": []
  }
 ],
 "metadata": {
  "kernelspec": {
   "display_name": "airflow_venv",
   "language": "python",
   "name": "python3"
  },
  "language_info": {
   "codemirror_mode": {
    "name": "ipython",
    "version": 3
   },
   "file_extension": ".py",
   "mimetype": "text/x-python",
   "name": "python",
   "nbconvert_exporter": "python",
   "pygments_lexer": "ipython3",
   "version": "3.11.5"
  },
  "orig_nbformat": 4
 },
 "nbformat": 4,
 "nbformat_minor": 2
}
